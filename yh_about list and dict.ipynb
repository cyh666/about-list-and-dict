{
 "cells": [
  {
   "cell_type": "code",
   "execution_count": 20,
   "metadata": {},
   "outputs": [
    {
     "name": "stdout",
     "output_type": "stream",
     "text": [
      "Happy birthday: John\n",
      "Happy birthday: David\n",
      "Happy birthday: Tom\n",
      "\n",
      "Happy birthday: John\n",
      "Happy birthday: David\n",
      "Happy birthday: Tom\n",
      "David\n"
     ]
    }
   ],
   "source": [
    "friends = ['John','David','Tom']\n",
    "for friend in friends:\n",
    "    print(f'Happy birthday: {friend}')\n",
    "print()\n",
    "for i in range(len(friends)):\n",
    "    friend = friends[i]\n",
    "    print(f'Happy birthday: {friend}')\n",
    "\n",
    "friends.sort()\n",
    "print(friends[0])"
   ]
  },
  {
   "cell_type": "code",
   "execution_count": 25,
   "metadata": {},
   "outputs": [
    {
     "name": "stdout",
     "output_type": "stream",
     "text": [
      "{'cssv': 1, 'vssg': 1}\n",
      "0\n",
      "{'cssv': 2, 'vssg': 2}\n",
      "key: cssv ; value: 2\n",
      "key: vssg ; value: 2\n"
     ]
    }
   ],
   "source": [
    "# get function in dict\n",
    "\n",
    "counts = dict()\n",
    "# names = ['cssv', 'vssg', 'psst', 'tlls']\n",
    "names=['cssv','vssg']\n",
    "for name in names:\n",
    "    if name not in counts:\n",
    "        counts[name] = 1\n",
    "    else:\n",
    "        counts[name] += 1\n",
    "print(counts)\n",
    "x = counts.get('cabc',0)\n",
    "print(x)\n",
    "\n",
    "for name in names:\n",
    "    counts[name] = counts.get(name,0)+1\n",
    "print(counts)\n",
    "\n",
    "for k,v in counts.items():\n",
    "    print('key:',k,'; value:',v)"
   ]
  },
  {
   "cell_type": "code",
   "execution_count": null,
   "metadata": {},
   "outputs": [],
   "source": []
  }
 ],
 "metadata": {
  "kernelspec": {
   "display_name": "Python 3",
   "language": "python",
   "name": "python3"
  },
  "language_info": {
   "codemirror_mode": {
    "name": "ipython",
    "version": 3
   },
   "file_extension": ".py",
   "mimetype": "text/x-python",
   "name": "python",
   "nbconvert_exporter": "python",
   "pygments_lexer": "ipython3",
   "version": "3.7.0"
  }
 },
 "nbformat": 4,
 "nbformat_minor": 2
}
